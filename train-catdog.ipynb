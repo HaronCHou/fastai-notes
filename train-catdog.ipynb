{
 "cells": [
  {
   "cell_type": "code",
   "execution_count": 50,
   "metadata": {},
   "outputs": [],
   "source": [
    "import os\n",
    "import random\n",
    "\n",
    "data_root = '/home/helen/dataset/kagglecatsanddogs_5340/PetImages'\n",
    "\n",
    "cat_img_paths = [os.path.join(data_root, 'Cat', filename) for filename in os.listdir(os.path.join(data_root, 'Cat')) if filename.lower().endswith('.jpg')]\n",
    "dog_img_paths = [os.path.join(data_root, 'Dog', filename) for filename in os.listdir(os.path.join(data_root, 'Dog')) if filename.lower().endswith('.jpg')]\n",
    "\n",
    "import numpy as np\n",
    "trn_ids = np.random.randint(25000, size=6)\n",
    "random_subset = np.random.randint(24994, size=500)\n",
    "\n",
    "train_img_paths = []\n",
    "for id in trn_ids:\n",
    "    if id > len(cat_img_paths):\n",
    "        train_img_paths.append(dog_img_paths[id - 12501])\n",
    "    else:\n",
    "        train_img_paths.append(cat_img_paths[id])"
   ]
  },
  {
   "cell_type": "code",
   "execution_count": 51,
   "metadata": {},
   "outputs": [
    {
     "data": {
      "text/plain": [
       "array([23813,  3645, 17709, 18103,  2323,  1372])"
      ]
     },
     "execution_count": 51,
     "metadata": {},
     "output_type": "execute_result"
    }
   ],
   "source": [
    "trn_ids"
   ]
  },
  {
   "cell_type": "code",
   "execution_count": 52,
   "metadata": {},
   "outputs": [
    {
     "data": {
      "text/plain": [
       "(12499, 12499)"
      ]
     },
     "execution_count": 52,
     "metadata": {},
     "output_type": "execute_result"
    }
   ],
   "source": [
    "len(cat_img_paths), len(dog_img_paths)"
   ]
  },
  {
   "cell_type": "code",
   "execution_count": 53,
   "metadata": {},
   "outputs": [],
   "source": [
    "train_img_paths = []\n",
    "for id in trn_ids:\n",
    "    if id > len(cat_img_paths):\n",
    "        train_img_paths.append(dog_img_paths[id - 12501])\n",
    "    else:\n",
    "        train_img_paths.append(cat_img_paths[id])\n",
    "\n",
    "valid_img_paths = []\n",
    "for id in random_subset:\n",
    "    if id > len(cat_img_paths):\n",
    "        valid_img_paths.append(dog_img_paths[id - 12501])\n",
    "    else:\n",
    "        valid_img_paths.append(cat_img_paths[id])\n"
   ]
  },
  {
   "cell_type": "code",
   "execution_count": 54,
   "metadata": {},
   "outputs": [
    {
     "data": {
      "text/plain": [
       "['/home/helen/dataset/kagglecatsanddogs_5340/PetImages/Dog/11946.jpg',\n",
       " '/home/helen/dataset/kagglecatsanddogs_5340/PetImages/Cat/12098.jpg',\n",
       " '/home/helen/dataset/kagglecatsanddogs_5340/PetImages/Dog/3462.jpg',\n",
       " '/home/helen/dataset/kagglecatsanddogs_5340/PetImages/Dog/3304.jpg',\n",
       " '/home/helen/dataset/kagglecatsanddogs_5340/PetImages/Cat/8189.jpg',\n",
       " '/home/helen/dataset/kagglecatsanddogs_5340/PetImages/Cat/532.jpg']"
      ]
     },
     "execution_count": 54,
     "metadata": {},
     "output_type": "execute_result"
    }
   ],
   "source": [
    "train_img_paths"
   ]
  },
  {
   "cell_type": "code",
   "execution_count": 55,
   "metadata": {},
   "outputs": [],
   "source": [
    "import os\n",
    "import glob\n",
    "from PIL import Image\n",
    "import torchvision.transforms as transforms\n",
    "from torch.utils.data import DataLoader, Dataset\n",
    "\n",
    "class CatsDogsDataset(Dataset):\n",
    "    def __init__(self, img_path, transform=None):       \n",
    "          self.transform = transform\n",
    "          # 将训练集提前准备好了的~\n",
    "          self.image_paths = img_path #glob.glob(os.path.join(root_dir, '*.jpg'))\n",
    "        \n",
    "    def __len__(self):\n",
    "        return len(self.image_paths)\n",
    "    \n",
    "    def __getitem__(self, idx):\n",
    "        img_path = self.image_paths[idx]\n",
    "        image = Image.open(img_path).convert(\"RGB\")\n",
    "        \n",
    "        if self.transform:\n",
    "            image = self.transform(image)\n",
    "            \n",
    "        label = 1 if 'Dog' in img_path else 0\n",
    "        \n",
    "        return image, label\n",
    "\n",
    "# 定义图像预处理\n",
    "transform = transforms.Compose([\n",
    "    transforms.Resize((224, 224)),\n",
    "    transforms.ToTensor(), # 会除以255的\n",
    "    transforms.Normalize(mean=[0.485, 0.456, 0.406], std=[0.229, 0.224, 0.225])\n",
    "])\n",
    "\n",
    "# 创建数据集\n",
    "train_dataset = CatsDogsDataset(img_path=train_img_paths, transform=transform)\n",
    "\n",
    "# 创建数据加载器\n",
    "batch_size = 6\n",
    "train_loader = DataLoader(train_dataset, batch_size=batch_size, shuffle=True)"
   ]
  },
  {
   "cell_type": "code",
   "execution_count": 56,
   "metadata": {},
   "outputs": [],
   "source": [
    "all_imgs = cat_img_paths + dog_img_paths"
   ]
  },
  {
   "cell_type": "code",
   "execution_count": 57,
   "metadata": {},
   "outputs": [],
   "source": [
    "# valid_dataset = CatsDogsDataset(img_path=valid_img_paths, transform=transform)\n",
    "valid_dataset = CatsDogsDataset(img_path=all_imgs, transform=transform)\n",
    "valid_loader = DataLoader(valid_dataset, batch_size=64, shuffle=True)"
   ]
  },
  {
   "cell_type": "code",
   "execution_count": 59,
   "metadata": {},
   "outputs": [
    {
     "data": {
      "text/plain": [
       "24998"
      ]
     },
     "execution_count": 59,
     "metadata": {},
     "output_type": "execute_result"
    }
   ],
   "source": [
    "len(valid_dataset)"
   ]
  },
  {
   "cell_type": "code",
   "execution_count": 10,
   "metadata": {},
   "outputs": [
    {
     "name": "stdout",
     "output_type": "stream",
     "text": [
      "1\n",
      "torch.Size([6, 3, 224, 224]) torch.Size([6]) tensor([1, 1, 0, 0, 0, 1])\n"
     ]
    },
    {
     "data": {
      "text/plain": [
       "['/home/helen/dataset/kagglecatsanddogs_5340/PetImages/Dog/7112.jpg',\n",
       " '/home/helen/dataset/kagglecatsanddogs_5340/PetImages/Cat/7618.jpg',\n",
       " '/home/helen/dataset/kagglecatsanddogs_5340/PetImages/Cat/11733.jpg',\n",
       " '/home/helen/dataset/kagglecatsanddogs_5340/PetImages/Dog/1569.jpg',\n",
       " '/home/helen/dataset/kagglecatsanddogs_5340/PetImages/Dog/2612.jpg',\n",
       " '/home/helen/dataset/kagglecatsanddogs_5340/PetImages/Cat/9660.jpg']"
      ]
     },
     "execution_count": 10,
     "metadata": {},
     "output_type": "execute_result"
    }
   ],
   "source": [
    "print(len(train_loader))\n",
    "x,y = next(iter(train_loader))\n",
    "print(x.shape,y.shape,y)\n",
    "train_dataset.image_paths"
   ]
  },
  {
   "cell_type": "code",
   "execution_count": 60,
   "metadata": {},
   "outputs": [
    {
     "data": {
      "image/png": "[encoded data removed]",
      "text/plain": [
       "<Figure size 640x480 with 1 Axes>"
      ]
     },
     "metadata": {},
     "output_type": "display_data"
    }
   ],
   "source": [
    "import numpy as np\n",
    "import torch\n",
    "imagenet_mean, imagenet_std = [0.485, 0.456, 0.406], [0.229, 0.224, 0.225]\n",
    "\n",
    "import matplotlib.pyplot as plt\n",
    "import torchvision\n",
    "def imshow(img):\n",
    "    # img = img / 2 + 0.5 # 反标准化\n",
    "    # (x - u) / std tensor.sub_(mean).div_(std)\n",
    "    # hhhh，我竟然成功了！！！加鸡腿！！！\n",
    "    denorm_img = img.mul(torch.tensor(imagenet_std).reshape(-1,1,1)) + torch.tensor(imagenet_mean).reshape(-1,1,1)\n",
    "    npimg = denorm_img.numpy()\n",
    "    plt.imshow(np.transpose(npimg, (1,2,0)))\n",
    "    plt.show()\n",
    "\n",
    "imshow(torchvision.utils.make_grid(x))"
   ]
  },
  {
   "cell_type": "code",
   "execution_count": 12,
   "metadata": {},
   "outputs": [],
   "source": [
    "from model import vgg\n",
    "import torch.nn as nn\n",
    "import torch.optim as optim\n",
    "\n",
    "device = torch.device(\"cuda:0\" if torch.cuda.is_available() else \"cpu\")\n",
    "\n",
    "\n",
    "model_name = \"vgg16\"\n",
    "net = vgg(model_name=model_name, num_classes=2, init_weights=True)\n",
    "net.to(device)\n",
    "loss_function = nn.CrossEntropyLoss()\n",
    "optimizer = optim.Adam(net.parameters(), lr=0.0001)\n",
    "epochs = 40"
   ]
  },
  {
   "cell_type": "code",
   "execution_count": 13,
   "metadata": {},
   "outputs": [
    {
     "name": "stdout",
     "output_type": "stream",
     "text": [
      "Model GPU memory usage: 513.07 MB\n"
     ]
    }
   ],
   "source": [
    "#查看模型所占用的内存大小\n",
    "# 打印模型的显存占用情况\n",
    "print(f\"Model GPU memory usage: {torch.cuda.memory_allocated() / (1024 ** 2):.2f} MB\")"
   ]
  },
  {
   "cell_type": "code",
   "execution_count": 16,
   "metadata": {},
   "outputs": [
    {
     "name": "stdout",
     "output_type": "stream",
     "text": [
      "[epoch 1] train_loss: 0.353  val_accuracy: 0.492\n",
      "[epoch 2] train_loss: 0.011  val_accuracy: 0.492\n",
      "[epoch 3] train_loss: 0.000  val_accuracy: 0.492\n",
      "[epoch 4] train_loss: 0.000  val_accuracy: 0.492\n",
      "[epoch 5] train_loss: 0.000  val_accuracy: 0.492\n",
      "[epoch 6] train_loss: 0.000  val_accuracy: 0.492\n",
      "[epoch 7] train_loss: 0.000  val_accuracy: 0.492\n",
      "[epoch 8] train_loss: 0.000  val_accuracy: 0.492\n",
      "[epoch 9] train_loss: 0.000  val_accuracy: 0.492\n",
      "[epoch 10] train_loss: 0.000  val_accuracy: 0.492\n"
     ]
    }
   ],
   "source": [
    "# %%time\n",
    "import tqdm\n",
    "import sys\n",
    "import torch\n",
    "\n",
    "train_steps = len(train_loader)\n",
    "val_num = len(valid_dataset)\n",
    "for epoch in range(10):\n",
    "    net.train()\n",
    "    running_loss = 0.0\n",
    "    # 遍历数据加载器\n",
    "    for batch_images, batch_labels in train_loader:\n",
    "        # 在这里执行训练或验证的操作\n",
    "        optimizer.zero_grad()\n",
    "        outputs = net(batch_images.to(device))\n",
    "        loss = loss_function(outputs, batch_labels.to(device))\n",
    "        loss.backward()\n",
    "        optimizer.step()\n",
    "\n",
    "        running_loss += loss.item()\n",
    "\n",
    "    # 训练10个epoch再来看看\n",
    "    net.eval()\n",
    "    acc = 0.0\n",
    "    with torch.no_grad():\n",
    "        # val_bar = tqdm(valid_loader, file=sys.stdout)\n",
    "        for val_imgs, val_lbls in valid_loader:\n",
    "            outputs = net(val_imgs.to(device))\n",
    "            predict_y = torch.max(outputs, dim=1)[1]\n",
    "            acc += torch.eq(predict_y, val_lbls.to(device)).sum().item()\n",
    "    val_accurate = acc / val_num\n",
    "    print('[epoch %d] train_loss: %.3f  val_accuracy: %.3f' %\n",
    "            (epoch + 1, running_loss / train_steps, val_accurate))"
   ]
  },
  {
   "attachments": {},
   "cell_type": "markdown",
   "metadata": {},
   "source": [
    "- 这里是从头训练的vgg16，前后都是一个学习率，然后模型参数有500M+，参数较多的\n",
    "- 这里没有预训练权重，没有冻结特征层！！\n",
    "- 然后明明只有6个图像，怎么都要训练那么久，是全连接层拉低了速度吗？"
   ]
  },
  {
   "cell_type": "code",
   "execution_count": 27,
   "metadata": {},
   "outputs": [
    {
     "name": "stdout",
     "output_type": "stream",
     "text": [
      "Looking in indexes: https://pypi.tuna.tsinghua.edu.cn/simple\n",
      "Collecting torchsummary\n",
      "  Downloading https://pypi.tuna.tsinghua.edu.cn/packages/7d/18/1474d06f721b86e6a9b9d7392ad68bed711a02f3b61ac43f13c719db50a6/torchsummary-1.5.1-py3-none-any.whl (2.8 kB)\n",
      "Installing collected packages: torchsummary\n",
      "Successfully installed torchsummary-1.5.1\n",
      "Note: you may need to restart the kernel to use updated packages.\n"
     ]
    }
   ],
   "source": [
    "pip install torchsummary"
   ]
  },
  {
   "cell_type": "code",
   "execution_count": 17,
   "metadata": {},
   "outputs": [
    {
     "name": "stdout",
     "output_type": "stream",
     "text": [
      "----------------------------------------------------------------\n",
      "        Layer (type)               Output Shape         Param #\n",
      "================================================================\n",
      "            Conv2d-1         [-1, 64, 224, 224]           1,792\n",
      "              ReLU-2         [-1, 64, 224, 224]               0\n",
      "            Conv2d-3         [-1, 64, 224, 224]          36,928\n",
      "              ReLU-4         [-1, 64, 224, 224]               0\n",
      "         MaxPool2d-5         [-1, 64, 112, 112]               0\n",
      "            Conv2d-6        [-1, 128, 112, 112]          73,856\n",
      "              ReLU-7        [-1, 128, 112, 112]               0\n",
      "            Conv2d-8        [-1, 128, 112, 112]         147,584\n",
      "              ReLU-9        [-1, 128, 112, 112]               0\n",
      "        MaxPool2d-10          [-1, 128, 56, 56]               0\n",
      "           Conv2d-11          [-1, 256, 56, 56]         295,168\n",
      "             ReLU-12          [-1, 256, 56, 56]               0\n",
      "           Conv2d-13          [-1, 256, 56, 56]         590,080\n",
      "             ReLU-14          [-1, 256, 56, 56]               0\n",
      "           Conv2d-15          [-1, 256, 56, 56]         590,080\n",
      "             ReLU-16          [-1, 256, 56, 56]               0\n",
      "        MaxPool2d-17          [-1, 256, 28, 28]               0\n",
      "           Conv2d-18          [-1, 512, 28, 28]       1,180,160\n",
      "             ReLU-19          [-1, 512, 28, 28]               0\n",
      "           Conv2d-20          [-1, 512, 28, 28]       2,359,808\n",
      "             ReLU-21          [-1, 512, 28, 28]               0\n",
      "           Conv2d-22          [-1, 512, 28, 28]       2,359,808\n",
      "             ReLU-23          [-1, 512, 28, 28]               0\n",
      "        MaxPool2d-24          [-1, 512, 14, 14]               0\n",
      "           Conv2d-25          [-1, 512, 14, 14]       2,359,808\n",
      "             ReLU-26          [-1, 512, 14, 14]               0\n",
      "           Conv2d-27          [-1, 512, 14, 14]       2,359,808\n",
      "             ReLU-28          [-1, 512, 14, 14]               0\n",
      "           Conv2d-29          [-1, 512, 14, 14]       2,359,808\n",
      "             ReLU-30          [-1, 512, 14, 14]               0\n",
      "        MaxPool2d-31            [-1, 512, 7, 7]               0\n",
      "           Linear-32                 [-1, 4096]     102,764,544\n",
      "             ReLU-33                 [-1, 4096]               0\n",
      "          Dropout-34                 [-1, 4096]               0\n",
      "           Linear-35                 [-1, 4096]      16,781,312\n",
      "             ReLU-36                 [-1, 4096]               0\n",
      "          Dropout-37                 [-1, 4096]               0\n",
      "           Linear-38                    [-1, 2]           8,194\n",
      "================================================================\n",
      "Total params: 134,268,738\n",
      "Trainable params: 134,268,738\n",
      "Non-trainable params: 0\n",
      "----------------------------------------------------------------\n",
      "Input size (MB): 0.57\n",
      "Forward/backward pass size (MB): 218.58\n",
      "Params size (MB): 512.19\n",
      "Estimated Total Size (MB): 731.35\n",
      "----------------------------------------------------------------\n"
     ]
    }
   ],
   "source": [
    "# 我去，怎么输出是5个类别，明明只有2个类别啊，难怪acc 50%\n",
    "# 1个亿的参数量：其中1亿都在那个全连接层那里了\n",
    "from torchsummary import summary\n",
    "summary(net, (3, 224, 224))"
   ]
  },
  {
   "attachments": {},
   "cell_type": "markdown",
   "metadata": {},
   "source": [
    "## 结论\n",
    "1. 没有使用预训练权重：网络过拟合\n",
    "    - loss为0； acc不再增加\n",
    "2. 那Radek点6个样本，40个epoch都没有过拟合，loss都在下降的秘诀在哪里？\n",
    "    - 学习率？图像增强？迁移学习？？？"
   ]
  },
  {
   "attachments": {},
   "cell_type": "markdown",
   "metadata": {},
   "source": [
    "# Radek‘s VGG"
   ]
  },
  {
   "cell_type": "code",
   "execution_count": 61,
   "metadata": {},
   "outputs": [],
   "source": [
    "# 参数有差别：Radek没有全连接，做了网络的修改\n",
    "import torch.nn as nn\n",
    "import torch.optim as optim\n",
    "\n",
    "class VGG(nn.Module):\n",
    "    def __init__(self, features, num_classes=1000, init_weights=False):\n",
    "        super(VGG, self).__init__()\n",
    "        self.features = features\n",
    "        self.classifier = nn.Sequential(\n",
    "            # nn.AdaptiveAvgPool2d(1),\n",
    "            nn.Linear(512, 4096),\n",
    "            nn.BatchNorm1d(4096),\n",
    "            nn.ReLU(True),\n",
    "            nn.Linear(4096, num_classes),\n",
    "            nn.BatchNorm1d(num_classes),\n",
    "            nn.Softmax(dim=1)\n",
    "        )\n",
    "        self.maxpool = nn.AdaptiveMaxPool2d(1)\n",
    "        if init_weights:\n",
    "            self._initialize_weights()\n",
    "\n",
    "    def forward(self, x):\n",
    "        # N x 3 x 224 x 224\n",
    "        x = self.features(x)\n",
    "        # N x 512 x 7 x 7\n",
    "        x = self.maxpool(x)\n",
    "        x = torch.flatten(x, start_dim=1)\n",
    "        # N x 512*7*7\n",
    "        x = self.classifier(x)\n",
    "        return x\n",
    "\n",
    "    def _initialize_weights(self):\n",
    "        for m in self.modules():\n",
    "            if isinstance(m, nn.Conv2d):\n",
    "                nn.init.kaiming_normal_(m.weight, mode='fan_out', nonlinearity='relu')\n",
    "                # nn.init.xavier_uniform_(m.weight)\n",
    "                if m.bias is not None:\n",
    "                    nn.init.constant_(m.bias, 0)\n",
    "            elif isinstance(m, nn.Linear):\n",
    "                # nn.init.xavier_uniform_(m.weight)\n",
    "                nn.init.normal_(m.weight, 0, 0.01)\n",
    "                nn.init.constant_(m.bias, 0)\n",
    "\n",
    "\n",
    "def make_features(cfg: list):\n",
    "    layers = []\n",
    "    in_channels = 3\n",
    "    for v in cfg:\n",
    "        if v == \"M\":\n",
    "            layers += [nn.MaxPool2d(kernel_size=2, stride=2)]\n",
    "        else:\n",
    "            conv2d = nn.Conv2d(in_channels, v, kernel_size=3, padding=1)\n",
    "            layers += [conv2d, nn.ReLU(True)]\n",
    "            in_channels = v\n",
    "    return nn.Sequential(*layers)\n",
    "\n",
    "\n",
    "cfgs = {\n",
    "    'vgg11': [64, 'M', 128, 'M', 256, 256, 'M', 512, 512, 'M', 512, 512, 'M'],\n",
    "    'vgg13': [64, 64, 'M', 128, 128, 'M', 256, 256, 'M', 512, 512, 'M', 512, 512, 'M'],\n",
    "    'vgg16': [64, 64, 'M', 128, 128, 'M', 256, 256, 256, 'M', 512, 512, 512, 'M', 512, 512, 512, 'M'],\n",
    "    'vgg19': [64, 64, 'M', 128, 128, 'M', 256, 256, 256, 256, 'M', 512, 512, 512, 512, 'M', 512, 512, 512, 512, 'M'],\n",
    "}\n",
    "\n",
    "\n",
    "def vgg(model_name=\"vgg19\", **kwargs):\n",
    "    assert model_name in cfgs, \"Warning: model number {} not in cfgs dict!\".format(model_name)\n",
    "    cfg = cfgs[model_name]\n",
    "\n",
    "    model = VGG(make_features(cfg), **kwargs)\n",
    "    return model"
   ]
  },
  {
   "cell_type": "code",
   "execution_count": 36,
   "metadata": {},
   "outputs": [
    {
     "data": {
      "text/plain": [
       "(torch.Size([6, 512]), 3072, torch.Size([6, 512, 1, 1]))"
      ]
     },
     "execution_count": 36,
     "metadata": {},
     "output_type": "execute_result"
    }
   ],
   "source": [
    "m = nn.AdaptiveAvgPool2d(1)\n",
    "input = torch.randn(6, 512, 7, 7)\n",
    "xx = m(input)\n",
    "output = torch.flatten(xx, start_dim=1)\n",
    "output.shape, 6*512, xx.shape"
   ]
  },
  {
   "cell_type": "code",
   "execution_count": 13,
   "metadata": {},
   "outputs": [],
   "source": [
    "\n",
    "device = torch.device(\"cuda:0\" if torch.cuda.is_available() else \"cpu\")\n",
    "\n",
    "model_name = \"vgg16\"\n",
    "net = vgg(model_name=model_name, num_classes=2, init_weights=True)\n",
    "net.to(device)\n",
    "\n",
    "# model_weight_path = \"\"\n",
    "# assert os.path.exists(model_weight_path), \"file {} does not exist.\".format(model_weight_path)\n",
    "# net.load_state_dict(torch.load(model_weight_path, map_location=device))\n",
    "\n",
    "loss_function = nn.CrossEntropyLoss()\n",
    "optimizer = optim.Adam(net.parameters(), lr=0.0001)\n",
    "epochs = 40"
   ]
  },
  {
   "cell_type": "code",
   "execution_count": 14,
   "metadata": {},
   "outputs": [
    {
     "name": "stdout",
     "output_type": "stream",
     "text": [
      "Model GPU memory usage: 65.12 MB\n"
     ]
    }
   ],
   "source": [
    "#查看模型所占用的内存大小\n",
    "# 打印模型的显存占用情况\n",
    "print(f\"Model GPU memory usage: {torch.cuda.memory_allocated() / (1024 ** 2):.2f} MB\")"
   ]
  },
  {
   "cell_type": "code",
   "execution_count": 39,
   "metadata": {},
   "outputs": [
    {
     "name": "stdout",
     "output_type": "stream",
     "text": [
      "----------------------------------------------------------------\n",
      "        Layer (type)               Output Shape         Param #\n",
      "================================================================\n",
      "            Conv2d-1         [-1, 64, 224, 224]           1,792\n",
      "              ReLU-2         [-1, 64, 224, 224]               0\n",
      "            Conv2d-3         [-1, 64, 224, 224]          36,928\n",
      "              ReLU-4         [-1, 64, 224, 224]               0\n",
      "         MaxPool2d-5         [-1, 64, 112, 112]               0\n",
      "            Conv2d-6        [-1, 128, 112, 112]          73,856\n",
      "              ReLU-7        [-1, 128, 112, 112]               0\n",
      "            Conv2d-8        [-1, 128, 112, 112]         147,584\n",
      "              ReLU-9        [-1, 128, 112, 112]               0\n",
      "        MaxPool2d-10          [-1, 128, 56, 56]               0\n",
      "           Conv2d-11          [-1, 256, 56, 56]         295,168\n",
      "             ReLU-12          [-1, 256, 56, 56]               0\n",
      "           Conv2d-13          [-1, 256, 56, 56]         590,080\n",
      "             ReLU-14          [-1, 256, 56, 56]               0\n",
      "           Conv2d-15          [-1, 256, 56, 56]         590,080\n",
      "             ReLU-16          [-1, 256, 56, 56]               0\n",
      "        MaxPool2d-17          [-1, 256, 28, 28]               0\n",
      "           Conv2d-18          [-1, 512, 28, 28]       1,180,160\n",
      "             ReLU-19          [-1, 512, 28, 28]               0\n",
      "           Conv2d-20          [-1, 512, 28, 28]       2,359,808\n",
      "             ReLU-21          [-1, 512, 28, 28]               0\n",
      "           Conv2d-22          [-1, 512, 28, 28]       2,359,808\n",
      "             ReLU-23          [-1, 512, 28, 28]               0\n",
      "        MaxPool2d-24          [-1, 512, 14, 14]               0\n",
      "           Conv2d-25          [-1, 512, 14, 14]       2,359,808\n",
      "             ReLU-26          [-1, 512, 14, 14]               0\n",
      "           Conv2d-27          [-1, 512, 14, 14]       2,359,808\n",
      "             ReLU-28          [-1, 512, 14, 14]               0\n",
      "           Conv2d-29          [-1, 512, 14, 14]       2,359,808\n",
      "             ReLU-30          [-1, 512, 14, 14]               0\n",
      "        MaxPool2d-31            [-1, 512, 7, 7]               0\n",
      "AdaptiveMaxPool2d-32            [-1, 512, 1, 1]               0\n",
      "           Linear-33                 [-1, 4096]       2,101,248\n",
      "      BatchNorm1d-34                 [-1, 4096]           8,192\n",
      "             ReLU-35                 [-1, 4096]               0\n",
      "           Linear-36                    [-1, 2]           8,194\n",
      "      BatchNorm1d-37                    [-1, 2]               4\n",
      "          Softmax-38                    [-1, 2]               0\n",
      "================================================================\n",
      "Total params: 16,832,326\n",
      "Trainable params: 16,832,326\n",
      "Non-trainable params: 0\n",
      "----------------------------------------------------------------\n",
      "Input size (MB): 0.57\n",
      "Forward/backward pass size (MB): 218.49\n",
      "Params size (MB): 64.21\n",
      "Estimated Total Size (MB): 283.28\n",
      "----------------------------------------------------------------\n"
     ]
    }
   ],
   "source": [
    "# 我去，怎么输出是5个类别，明明只有2个类别啊，难怪acc 50%\n",
    "# 1个亿的参数量：其中1亿都在那个全连接层那里了\n",
    "from torchsummary import summary\n",
    "summary(net, (3, 224, 224))"
   ]
  },
  {
   "cell_type": "code",
   "execution_count": 15,
   "metadata": {},
   "outputs": [
    {
     "name": "stdout",
     "output_type": "stream",
     "text": [
      "[epoch 1] train_loss: 0.797  val_accuracy: 0.486\n",
      "[epoch 2] train_loss: 0.498  val_accuracy: 0.498\n",
      "[epoch 3] train_loss: 0.425  val_accuracy: 0.506\n",
      "[epoch 4] train_loss: 0.436  val_accuracy: 0.504\n",
      "[epoch 5] train_loss: 0.414  val_accuracy: 0.504\n",
      "[epoch 6] train_loss: 0.411  val_accuracy: 0.504\n",
      "[epoch 7] train_loss: 0.405  val_accuracy: 0.504\n",
      "[epoch 8] train_loss: 0.405  val_accuracy: 0.504\n",
      "[epoch 9] train_loss: 0.405  val_accuracy: 0.504\n",
      "[epoch 10] train_loss: 0.405  val_accuracy: 0.504\n"
     ]
    }
   ],
   "source": [
    "# %%time\n",
    "import tqdm\n",
    "import sys\n",
    "import torch\n",
    "\n",
    "train_steps = len(train_loader)\n",
    "val_num = len(valid_dataset)\n",
    "for epoch in range(10):\n",
    "    net.train()\n",
    "    running_loss = 0.0\n",
    "    # 遍历数据加载器\n",
    "    for batch_images, batch_labels in train_loader:\n",
    "        # 在这里执行训练或验证的操作\n",
    "        optimizer.zero_grad()\n",
    "        outputs = net(batch_images.to(device))\n",
    "        loss = loss_function(outputs, batch_labels.to(device))\n",
    "        loss.backward()\n",
    "        optimizer.step()\n",
    "\n",
    "        running_loss += loss.item()\n",
    "\n",
    "    # 训练10个epoch再来看看\n",
    "    net.eval()\n",
    "    acc = 0.0\n",
    "    with torch.no_grad():\n",
    "        # val_bar = tqdm(valid_loader, file=sys.stdout)\n",
    "        for val_imgs, val_lbls in valid_loader:\n",
    "            outputs = net(val_imgs.to(device))\n",
    "            predict_y = torch.max(outputs, dim=1)[1]\n",
    "            acc += torch.eq(predict_y, val_lbls.to(device)).sum().item()\n",
    "    val_accurate = acc / val_num\n",
    "    print('[epoch %d] train_loss: %.3f  val_accuracy: %.3f' %\n",
    "            (epoch + 1, running_loss / train_steps, val_accurate))"
   ]
  },
  {
   "attachments": {},
   "cell_type": "markdown",
   "metadata": {},
   "source": [
    "### 去掉全连接，网络有在积极训练\n",
    "- 最后loss不再下降了，why？精度也不再增加了\n",
    "- 50% 跟随机乱猜差不多哦，基本没啥意义的训练哦？"
   ]
  },
  {
   "cell_type": "code",
   "execution_count": 27,
   "metadata": {},
   "outputs": [
    {
     "name": "stdout",
     "output_type": "stream",
     "text": [
      "[missing_keys]:\n",
      "classifier.0.weight\n",
      "classifier.0.bias\n",
      "classifier.1.weight\n",
      "classifier.1.bias\n",
      "classifier.1.running_mean\n",
      "classifier.1.running_var\n",
      "classifier.3.weight\n",
      "classifier.3.bias\n",
      "classifier.4.weight\n",
      "classifier.4.bias\n",
      "classifier.4.running_mean\n",
      "classifier.4.running_var\n",
      "[unexpected_keys]:\n"
     ]
    }
   ],
   "source": [
    "\n",
    "device = torch.device(\"cuda:0\" if torch.cuda.is_available() else \"cpu\")\n",
    "\n",
    "model_name = \"vgg16\"\n",
    "net = vgg(model_name=model_name, num_classes=2, init_weights=True)\n",
    "net.to(device)\n",
    "\n",
    "model_weight_path = \"/home/helen/dataset/vgg16-397923af.pth\"\n",
    "assert os.path.exists(model_weight_path), \"file {} does not exist.\".format(model_weight_path)\n",
    "# net.features.load_state_dict(torch.load(model_weight_path, map_location=device))\n",
    "pre_weights = torch.load(model_weight_path, map_location=device)\n",
    "del_key = []\n",
    "for key, _ in pre_weights.items():\n",
    "    if \"classifier\" in key:\n",
    "        del_key.append(key)\n",
    "\n",
    "for key in del_key:\n",
    "    del pre_weights[key]\n",
    "\n",
    "missing_keys, unexpected_keys = net.load_state_dict(pre_weights, strict=False)\n",
    "# print(\"[missing_keys]:\", *missing_keys, sep=\"\\n\")\n",
    "# print(\"[unexpected_keys]:\", *unexpected_keys, sep=\"\\n\")\n",
    "\n",
    "loss_function = nn.CrossEntropyLoss()\n",
    "optimizer = optim.Adam(net.parameters(), lr=0.0001)\n",
    "epochs = 40"
   ]
  },
  {
   "attachments": {},
   "cell_type": "markdown",
   "metadata": {},
   "source": [
    "- 不要分类层，只要特征层，也就是backbone"
   ]
  },
  {
   "cell_type": "code",
   "execution_count": 25,
   "metadata": {},
   "outputs": [
    {
     "name": "stdout",
     "output_type": "stream",
     "text": [
      "[missing_keys]:\n",
      "classifier.0.weight\n",
      "classifier.0.bias\n",
      "classifier.1.weight\n",
      "classifier.1.bias\n",
      "classifier.1.running_mean\n",
      "classifier.1.running_var\n",
      "classifier.3.weight\n",
      "classifier.3.bias\n",
      "classifier.4.weight\n",
      "classifier.4.bias\n",
      "classifier.4.running_mean\n",
      "classifier.4.running_var\n",
      "[unexpected_keys]:\n"
     ]
    }
   ],
   "source": [
    "pre_weights = torch.load(model_weight_path, map_location=device)\n",
    "del_key = []\n",
    "for key, _ in pre_weights.items():\n",
    "    if \"classifier\" in key:\n",
    "        del_key.append(key)\n",
    "\n",
    "for key in del_key:\n",
    "    del pre_weights[key]\n",
    "\n",
    "missing_keys, unexpected_keys = net.load_state_dict(pre_weights, strict=False)\n",
    "print(\"[missing_keys]:\", *missing_keys, sep=\"\\n\")\n",
    "print(\"[unexpected_keys]:\", *unexpected_keys, sep=\"\\n\")"
   ]
  },
  {
   "cell_type": "code",
   "execution_count": 23,
   "metadata": {},
   "outputs": [
    {
     "name": "stdout",
     "output_type": "stream",
     "text": [
      "features.0.weight torch.Size([64, 3, 3, 3])\n",
      "features.0.bias torch.Size([64])\n",
      "features.2.weight torch.Size([64, 64, 3, 3])\n",
      "features.2.bias torch.Size([64])\n",
      "features.5.weight torch.Size([128, 64, 3, 3])\n",
      "features.5.bias torch.Size([128])\n",
      "features.7.weight torch.Size([128, 128, 3, 3])\n",
      "features.7.bias torch.Size([128])\n",
      "features.10.weight torch.Size([256, 128, 3, 3])\n",
      "features.10.bias torch.Size([256])\n",
      "features.12.weight torch.Size([256, 256, 3, 3])\n",
      "features.12.bias torch.Size([256])\n",
      "features.14.weight torch.Size([256, 256, 3, 3])\n",
      "features.14.bias torch.Size([256])\n",
      "features.17.weight torch.Size([512, 256, 3, 3])\n",
      "features.17.bias torch.Size([512])\n",
      "features.19.weight torch.Size([512, 512, 3, 3])\n",
      "features.19.bias torch.Size([512])\n",
      "features.21.weight torch.Size([512, 512, 3, 3])\n",
      "features.21.bias torch.Size([512])\n",
      "features.24.weight torch.Size([512, 512, 3, 3])\n",
      "features.24.bias torch.Size([512])\n",
      "features.26.weight torch.Size([512, 512, 3, 3])\n",
      "features.26.bias torch.Size([512])\n",
      "features.28.weight torch.Size([512, 512, 3, 3])\n",
      "features.28.bias torch.Size([512])\n"
     ]
    }
   ],
   "source": [
    "for key, value in pre_weights.items():\n",
    "    print(key, value.shape)"
   ]
  },
  {
   "cell_type": "code",
   "execution_count": 28,
   "metadata": {},
   "outputs": [
    {
     "name": "stdout",
     "output_type": "stream",
     "text": [
      "[epoch 1] train_loss: 0.777  val_accuracy: 0.706\n",
      "[epoch 2] train_loss: 0.438  val_accuracy: 0.788\n",
      "[epoch 3] train_loss: 0.390  val_accuracy: 0.840\n",
      "[epoch 4] train_loss: 0.385  val_accuracy: 0.856\n",
      "[epoch 5] train_loss: 0.385  val_accuracy: 0.870\n",
      "[epoch 6] train_loss: 0.385  val_accuracy: 0.860\n",
      "[epoch 7] train_loss: 0.384  val_accuracy: 0.858\n",
      "[epoch 8] train_loss: 0.384  val_accuracy: 0.850\n",
      "[epoch 9] train_loss: 0.384  val_accuracy: 0.844\n",
      "[epoch 10] train_loss: 0.384  val_accuracy: 0.832\n"
     ]
    }
   ],
   "source": [
    "# %%time\n",
    "import tqdm\n",
    "import sys\n",
    "import torch\n",
    "\n",
    "train_steps = len(train_loader)\n",
    "val_num = len(valid_dataset)\n",
    "for epoch in range(10):\n",
    "    net.train()\n",
    "    running_loss = 0.0\n",
    "    # 遍历数据加载器\n",
    "    for batch_images, batch_labels in train_loader:\n",
    "        # 在这里执行训练或验证的操作\n",
    "        optimizer.zero_grad()\n",
    "        outputs = net(batch_images.to(device))\n",
    "        loss = loss_function(outputs, batch_labels.to(device))\n",
    "        loss.backward()\n",
    "        optimizer.step()\n",
    "\n",
    "        running_loss += loss.item()\n",
    "\n",
    "    # 训练10个epoch再来看看\n",
    "    net.eval()\n",
    "    acc = 0.0\n",
    "    with torch.no_grad():\n",
    "        # val_bar = tqdm(valid_loader, file=sys.stdout)\n",
    "        for val_imgs, val_lbls in valid_loader:\n",
    "            outputs = net(val_imgs.to(device))\n",
    "            predict_y = torch.max(outputs, dim=1)[1]\n",
    "            acc += torch.eq(predict_y, val_lbls.to(device)).sum().item()\n",
    "    val_accurate = acc / val_num\n",
    "    print('[epoch %d] train_loss: %.3f  val_accuracy: %.3f' %\n",
    "            (epoch + 1, running_loss / train_steps, val_accurate))"
   ]
  },
  {
   "attachments": {},
   "cell_type": "markdown",
   "metadata": {},
   "source": [
    "- 载入了预训练权重之后，acc有明显上升的了"
   ]
  },
  {
   "attachments": {},
   "cell_type": "markdown",
   "metadata": {},
   "source": [
    "### 冻结backbone再看看，同时VGG的初始化也改了的\n",
    "- 综上，迁移学习+冻结backbone可以实现和Radek一样的效果了"
   ]
  },
  {
   "cell_type": "code",
   "execution_count": 62,
   "metadata": {},
   "outputs": [],
   "source": [
    "\n",
    "device = torch.device(\"cuda:0\" if torch.cuda.is_available() else \"cpu\")\n",
    "\n",
    "model_name = \"vgg16\"\n",
    "net = vgg(model_name=model_name, num_classes=2, init_weights=True)\n",
    "net.to(device)\n",
    "\n",
    "model_weight_path = \"/home/helen/dataset/vgg16-397923af.pth\"\n",
    "assert os.path.exists(model_weight_path), \"file {} does not exist.\".format(model_weight_path)\n",
    "# net.features.load_state_dict(torch.load(model_weight_path, map_location=device))\n",
    "pre_weights = torch.load(model_weight_path, map_location=device)\n",
    "del_key = []\n",
    "for key, _ in pre_weights.items():\n",
    "    if \"classifier\" in key:\n",
    "        del_key.append(key)\n",
    "\n",
    "for key in del_key:\n",
    "    del pre_weights[key]\n",
    "\n",
    "missing_keys, unexpected_keys = net.load_state_dict(pre_weights, strict=False)\n",
    "# print(\"[missing_keys]:\", *missing_keys, sep=\"\\n\")\n",
    "# print(\"[unexpected_keys]:\", *unexpected_keys, sep=\"\\n\")\n",
    "\n",
    "loss_function = nn.CrossEntropyLoss()\n",
    "\n",
    "for para in net.features:\n",
    "    para.requires_grad_(False)\n",
    "optimizer = optim.Adam(net.parameters(), lr=0.0001)\n",
    "# epochs = 40"
   ]
  },
  {
   "cell_type": "code",
   "execution_count": 39,
   "metadata": {},
   "outputs": [
    {
     "name": "stdout",
     "output_type": "stream",
     "text": [
      "0.weight False\n",
      "0.bias False\n",
      "2.weight False\n",
      "2.bias False\n",
      "5.weight False\n",
      "5.bias False\n",
      "7.weight False\n",
      "7.bias False\n",
      "10.weight False\n",
      "10.bias False\n",
      "12.weight False\n",
      "12.bias False\n",
      "14.weight False\n",
      "14.bias False\n",
      "17.weight False\n",
      "17.bias False\n",
      "19.weight False\n",
      "19.bias False\n",
      "21.weight False\n",
      "21.bias False\n",
      "24.weight False\n",
      "24.bias False\n",
      "26.weight False\n",
      "26.bias False\n",
      "28.weight False\n",
      "28.bias False\n",
      "0.weight True\n",
      "0.bias True\n",
      "1.weight True\n",
      "1.bias True\n",
      "3.weight True\n",
      "3.bias True\n",
      "4.weight True\n",
      "4.bias True\n"
     ]
    }
   ],
   "source": [
    "for p in net.features.named_parameters():\n",
    "    print(p[0], p[1].requires_grad)\n",
    "for p in net.classifier.named_parameters():\n",
    "    print(p[0], p[1].requires_grad)"
   ]
  },
  {
   "cell_type": "code",
   "execution_count": 49,
   "metadata": {},
   "outputs": [
    {
     "name": "stdout",
     "output_type": "stream",
     "text": [
      "[epoch 1] train_loss: 0.793  val_accuracy: 0.496\n",
      "[epoch 2] train_loss: 0.422  val_accuracy: 0.496\n",
      "[epoch 3] train_loss: 0.402  val_accuracy: 0.498\n",
      "[epoch 4] train_loss: 0.394  val_accuracy: 0.504\n",
      "[epoch 5] train_loss: 0.391  val_accuracy: 0.522\n",
      "[epoch 6] train_loss: 0.388  val_accuracy: 0.558\n",
      "[epoch 7] train_loss: 0.387  val_accuracy: 0.588\n",
      "[epoch 8] train_loss: 0.386  val_accuracy: 0.636\n",
      "[epoch 9] train_loss: 0.385  val_accuracy: 0.684\n",
      "[epoch 10] train_loss: 0.385  val_accuracy: 0.736\n",
      "[epoch 11] train_loss: 0.384  val_accuracy: 0.766\n",
      "[epoch 12] train_loss: 0.384  val_accuracy: 0.788\n",
      "[epoch 13] train_loss: 0.384  val_accuracy: 0.808\n",
      "[epoch 14] train_loss: 0.384  val_accuracy: 0.844\n",
      "[epoch 15] train_loss: 0.383  val_accuracy: 0.878\n",
      "[epoch 16] train_loss: 0.383  val_accuracy: 0.884\n",
      "[epoch 17] train_loss: 0.383  val_accuracy: 0.902\n",
      "[epoch 18] train_loss: 0.383  val_accuracy: 0.902\n",
      "[epoch 19] train_loss: 0.383  val_accuracy: 0.900\n",
      "[epoch 20] train_loss: 0.383  val_accuracy: 0.902\n",
      "[epoch 21] train_loss: 0.383  val_accuracy: 0.906\n",
      "[epoch 22] train_loss: 0.383  val_accuracy: 0.918\n",
      "[epoch 23] train_loss: 0.383  val_accuracy: 0.916\n",
      "[epoch 24] train_loss: 0.383  val_accuracy: 0.918\n",
      "[epoch 25] train_loss: 0.383  val_accuracy: 0.918\n",
      "[epoch 26] train_loss: 0.383  val_accuracy: 0.920\n",
      "[epoch 27] train_loss: 0.383  val_accuracy: 0.920\n",
      "[epoch 28] train_loss: 0.383  val_accuracy: 0.918\n",
      "[epoch 29] train_loss: 0.383  val_accuracy: 0.918\n",
      "[epoch 30] train_loss: 0.383  val_accuracy: 0.912\n",
      "[epoch 31] train_loss: 0.383  val_accuracy: 0.908\n",
      "[epoch 32] train_loss: 0.383  val_accuracy: 0.906\n",
      "[epoch 33] train_loss: 0.383  val_accuracy: 0.904\n",
      "[epoch 34] train_loss: 0.383  val_accuracy: 0.902\n",
      "[epoch 35] train_loss: 0.383  val_accuracy: 0.902\n",
      "[epoch 36] train_loss: 0.383  val_accuracy: 0.900\n",
      "[epoch 37] train_loss: 0.383  val_accuracy: 0.896\n",
      "[epoch 38] train_loss: 0.383  val_accuracy: 0.890\n",
      "[epoch 39] train_loss: 0.383  val_accuracy: 0.888\n",
      "[epoch 40] train_loss: 0.383  val_accuracy: 0.888\n"
     ]
    }
   ],
   "source": [
    "# %%time\n",
    "import tqdm\n",
    "import sys\n",
    "import torch\n",
    "\n",
    "train_steps = len(train_loader)\n",
    "val_num = len(valid_dataset)\n",
    "for epoch in range(40):\n",
    "    net.train()\n",
    "    running_loss = 0.0\n",
    "    # 遍历数据加载器\n",
    "    for batch_images, batch_labels in train_loader:\n",
    "        # 在这里执行训练或验证的操作\n",
    "        optimizer.zero_grad()\n",
    "        outputs = net(batch_images.to(device))\n",
    "        loss = loss_function(outputs, batch_labels.to(device))\n",
    "        loss.backward()\n",
    "        optimizer.step()\n",
    "\n",
    "        running_loss += loss.item()\n",
    "\n",
    "    # 训练10个epoch再来看看\n",
    "    net.eval()\n",
    "    acc = 0.0\n",
    "    with torch.no_grad():\n",
    "        # val_bar = tqdm(valid_loader, file=sys.stdout)\n",
    "        for val_imgs, val_lbls in valid_loader:\n",
    "            outputs = net(val_imgs.to(device))\n",
    "            predict_y = torch.max(outputs, dim=1)[1]\n",
    "            acc += torch.eq(predict_y, val_lbls.to(device)).sum().item()\n",
    "    val_accurate = acc / val_num\n",
    "    print('[epoch %d] train_loss: %.3f  val_accuracy: %.3f' %\n",
    "            (epoch + 1, running_loss / train_steps, val_accurate))"
   ]
  },
  {
   "cell_type": "code",
   "execution_count": 63,
   "metadata": {},
   "outputs": [
    {
     "name": "stderr",
     "output_type": "stream",
     "text": [
      "/home/zhr/miniconda3/envs/fastai2/lib/python3.9/site-packages/PIL/TiffImagePlugin.py:819: UserWarning: Truncated File Read\n",
      "  warnings.warn(str(msg))\n"
     ]
    },
    {
     "name": "stdout",
     "output_type": "stream",
     "text": [
      "[epoch 1] train_loss: 0.736  val_accuracy: 0.547\n",
      "[epoch 2] train_loss: 0.423  val_accuracy: 0.570\n",
      "[epoch 3] train_loss: 0.397  val_accuracy: 0.611\n",
      "[epoch 4] train_loss: 0.390  val_accuracy: 0.660\n",
      "[epoch 5] train_loss: 0.386  val_accuracy: 0.710\n",
      "[epoch 6] train_loss: 0.385  val_accuracy: 0.751\n",
      "[epoch 7] train_loss: 0.384  val_accuracy: 0.791\n",
      "[epoch 8] train_loss: 0.384  val_accuracy: 0.822\n",
      "[epoch 9] train_loss: 0.384  val_accuracy: 0.850\n",
      "[epoch 10] train_loss: 0.384  val_accuracy: 0.873\n",
      "[epoch 11] train_loss: 0.383  val_accuracy: 0.891\n",
      "[epoch 12] train_loss: 0.383  val_accuracy: 0.906\n",
      "[epoch 13] train_loss: 0.383  val_accuracy: 0.915\n",
      "[epoch 14] train_loss: 0.383  val_accuracy: 0.923\n",
      "[epoch 15] train_loss: 0.383  val_accuracy: 0.929\n",
      "[epoch 16] train_loss: 0.383  val_accuracy: 0.934\n",
      "[epoch 17] train_loss: 0.383  val_accuracy: 0.939\n",
      "[epoch 18] train_loss: 0.383  val_accuracy: 0.942\n",
      "[epoch 19] train_loss: 0.383  val_accuracy: 0.944\n",
      "[epoch 20] train_loss: 0.383  val_accuracy: 0.946\n"
     ]
    }
   ],
   "source": [
    "# %%time\n",
    "import tqdm\n",
    "import sys\n",
    "import torch\n",
    "\n",
    "train_steps = len(train_loader)\n",
    "val_num = len(valid_dataset)\n",
    "for epoch in range(20):\n",
    "    net.train()\n",
    "    running_loss = 0.0\n",
    "    # 遍历数据加载器\n",
    "    for batch_images, batch_labels in train_loader:\n",
    "        # 在这里执行训练或验证的操作\n",
    "        optimizer.zero_grad()\n",
    "        outputs = net(batch_images.to(device))\n",
    "        loss = loss_function(outputs, batch_labels.to(device))\n",
    "        loss.backward()\n",
    "        optimizer.step()\n",
    "\n",
    "        running_loss += loss.item()\n",
    "\n",
    "    # 训练10个epoch再来看看\n",
    "    net.eval()\n",
    "    acc = 0.0\n",
    "    with torch.no_grad():\n",
    "        # val_bar = tqdm(valid_loader, file=sys.stdout)\n",
    "        for val_imgs, val_lbls in valid_loader:\n",
    "            outputs = net(val_imgs.to(device))\n",
    "            predict_y = torch.max(outputs, dim=1)[1]\n",
    "            acc += torch.eq(predict_y, val_lbls.to(device)).sum().item()\n",
    "    val_accurate = acc / val_num\n",
    "    print('[epoch %d] train_loss: %.3f  val_accuracy: %.3f' %\n",
    "            (epoch + 1, running_loss / train_steps, val_accurate))"
   ]
  },
  {
   "cell_type": "code",
   "execution_count": null,
   "metadata": {},
   "outputs": [],
   "source": []
  }
 ],
 "metadata": {
  "kernelspec": {
   "display_name": "fastai2",
   "language": "python",
   "name": "python3"
  },
  "language_info": {
   "codemirror_mode": {
    "name": "ipython",
    "version": 3
   },
   "file_extension": ".py",
   "mimetype": "text/x-python",
   "name": "python",
   "nbconvert_exporter": "python",
   "pygments_lexer": "ipython3",
   "version": "3.9.12"
  },
  "orig_nbformat": 4
 },
 "nbformat": 4,
 "nbformat_minor": 2
}
